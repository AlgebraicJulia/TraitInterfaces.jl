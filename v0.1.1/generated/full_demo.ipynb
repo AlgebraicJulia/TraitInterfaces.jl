{
 "cells": [
  {
   "cell_type": "markdown",
   "source": [
    "# Full Demo"
   ],
   "metadata": {}
  },
  {
   "outputs": [],
   "cell_type": "code",
   "source": [
    "using TraitInterfaces, Test"
   ],
   "metadata": {},
   "execution_count": 1
  },
  {
   "cell_type": "markdown",
   "source": [
    "This is a self-contained walkthrough of the main features of TraitInterfaces.\n",
    "This is a regular julia file that can be run interactively.\n",
    "\n",
    "Importantly:\n",
    " - use Julia 1.10\n",
    " - activate the environment in TraitInterfaces.jl/docs\n",
    "\n",
    "Table of contents:\n",
    "\n",
    "1. ..."
   ],
   "metadata": {}
  }
 ],
 "nbformat_minor": 3,
 "metadata": {
  "language_info": {
   "file_extension": ".jl",
   "mimetype": "application/julia",
   "name": "julia",
   "version": "1.11.6"
  },
  "kernelspec": {
   "name": "julia-1.11",
   "display_name": "Julia 1.11.6",
   "language": "julia"
  }
 },
 "nbformat": 4
}
